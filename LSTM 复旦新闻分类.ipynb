{
 "cells": [
  {
   "cell_type": "markdown",
   "metadata": {},
   "source": [
    "# LSTM 复旦新闻分类"
   ]
  },
  {
   "cell_type": "code",
   "execution_count": 1,
   "metadata": {},
   "outputs": [
    {
     "name": "stderr",
     "output_type": "stream",
     "text": [
      "D:\\study\\Anaconda\\lib\\site-packages\\h5py\\__init__.py:36: FutureWarning: Conversion of the second argument of issubdtype from `float` to `np.floating` is deprecated. In future, it will be treated as `np.float64 == np.dtype(float).type`.\n",
      "  from ._conv import register_converters as _register_converters\n",
      "Using TensorFlow backend.\n"
     ]
    }
   ],
   "source": [
    "from keras.preprocessing import sequence\n",
    "from keras.preprocessing.text import Tokenizer\n",
    "import numpy as np\n",
    "import keras.preprocessing.text as T\n",
    "import os\n",
    "import re\n",
    "import jieba\n",
    "from keras.models import Sequential\n",
    "from keras.layers import *\n",
    "from sklearn.preprocessing import LabelBinarizer\n",
    "from keras.optimizers import RMSprop\n",
    "from sklearn.model_selection import train_test_split\n",
    "from sklearn import metrics"
   ]
  },
  {
   "cell_type": "markdown",
   "metadata": {},
   "source": [
    "## 加载数据"
   ]
  },
  {
   "cell_type": "code",
   "execution_count": 2,
   "metadata": {},
   "outputs": [],
   "source": [
    "r1 =  '[a-zA-Z0-9’\\n·\\s＊!\"：#$%&\\'()◆●（）＠②*+,-./:;<=>?@，。?★、…【】《》？——“”‘’！[\\$$^_`{|}~]+'"
   ]
  },
  {
   "cell_type": "code",
   "execution_count": 3,
   "metadata": {},
   "outputs": [
    {
     "name": "stderr",
     "output_type": "stream",
     "text": [
      "Building prefix dict from the default dictionary ...\n",
      "Loading model from cache C:\\Users\\levovo\\AppData\\Local\\Temp\\jieba.cache\n",
      "Loading model cost 1.497 seconds.\n",
      "Prefix dict has been built succesfully.\n"
     ]
    }
   ],
   "source": [
    "file_names = os.listdir(r'D:\\CS\\dataset\\NLP\\answer\\C3-Art')\n",
    "X = [] ; y = []\n",
    "\n",
    "for file in file_names:\n",
    "    file = 'D:/CS/dataset/NLP/answer/C3-Art/' + file\n",
    "    with open(file, 'r', encoding='utf-8') as f:\n",
    "        try:      # 有些文件用utf-8读取会出错, 而这些文件占比比较小, 索性丢弃\n",
    "            content = f.read()\n",
    "        except:\n",
    "            continue\n",
    "        content = re.sub(r1, '', content)\n",
    "        content_jieba = ' '.join(jieba.cut(content))\n",
    "        X.append(content_jieba)\n",
    "        y.append(3)   # 令Art类别为3"
   ]
  },
  {
   "cell_type": "code",
   "execution_count": 4,
   "metadata": {},
   "outputs": [],
   "source": [
    "file_names = os.listdir(r'D:\\CS\\dataset\\NLP\\answer\\C7-History')\n",
    "\n",
    "for file in file_names:\n",
    "    file = 'D:/CS/dataset/NLP/answer/C7-History/' + file\n",
    "    with open(file, 'r', encoding='utf-8') as f:\n",
    "        try:      # 有些文件用utf-8读取会出错, 而这些文件占比比较小, 索性丢弃\n",
    "            content = f.read()\n",
    "        except:\n",
    "            continue\n",
    "        content = re.sub(r1, '', content)\n",
    "        content_jieba = ' '.join(jieba.cut(content))\n",
    "        X.append(content_jieba)\n",
    "        y.append(7)   "
   ]
  },
  {
   "cell_type": "code",
   "execution_count": 5,
   "metadata": {},
   "outputs": [],
   "source": [
    "file_names = os.listdir(r'D:\\CS\\dataset\\NLP\\answer\\C11-Space')\n",
    "\n",
    "for file in file_names:\n",
    "    file = 'D:/CS/dataset/NLP/answer/C11-Space/' + file\n",
    "    with open(file, 'r', encoding='utf-8') as f:\n",
    "        try:      # 有些文件用utf-8读取会出错, 而这些文件占比比较小, 索性丢弃\n",
    "            content = f.read()\n",
    "        except:\n",
    "            continue\n",
    "        content = re.sub(r1, '', content)\n",
    "        content_jieba = ' '.join(jieba.cut(content))\n",
    "        X.append(content_jieba)\n",
    "        y.append(11)"
   ]
  },
  {
   "cell_type": "code",
   "execution_count": 6,
   "metadata": {},
   "outputs": [],
   "source": [
    "file_names = os.listdir(r'D:\\CS\\dataset\\NLP\\answer\\C19-Computer')\n",
    "\n",
    "for file in file_names:\n",
    "    file = 'D:/CS/dataset/NLP/answer/C19-Computer/' + file\n",
    "    with open(file, 'r', encoding='utf-8') as f:\n",
    "        try:      # 有些文件用utf-8读取会出错, 而这些文件占比比较小, 索性丢弃\n",
    "            content = f.read()\n",
    "        except:\n",
    "            continue\n",
    "        content = re.sub(r1, '', content)\n",
    "        content_jieba = ' '.join(jieba.cut(content))\n",
    "        X.append(content_jieba)\n",
    "        y.append(19)"
   ]
  },
  {
   "cell_type": "code",
   "execution_count": 7,
   "metadata": {},
   "outputs": [],
   "source": [
    "file_names = os.listdir(r'D:\\CS\\dataset\\NLP\\answer\\C29-Transport')\n",
    "\n",
    "for file in file_names:\n",
    "    file = 'D:/CS/dataset/NLP/answer/C29-Transport/' + file\n",
    "    with open(file, 'r', encoding='utf-8') as f:\n",
    "        try:      # 有些文件用utf-8读取会出错, 而这些文件占比比较小, 索性丢弃\n",
    "            content = f.read()\n",
    "        except:\n",
    "            continue\n",
    "        content = re.sub(r1, '', content)\n",
    "        content_jieba = ' '.join(jieba.cut(content))\n",
    "        X.append(content_jieba)\n",
    "        y.append(29)"
   ]
  },
  {
   "cell_type": "code",
   "execution_count": 8,
   "metadata": {},
   "outputs": [],
   "source": [
    "file_names = os.listdir(r'D:\\CS\\dataset\\NLP\\answer\\C23-Mine')\n",
    "\n",
    "for file in file_names:\n",
    "    file = 'D:/CS/dataset/NLP/answer/C23-Mine/' + file\n",
    "    with open(file, 'r', encoding='utf-8') as f:\n",
    "        try:      # 有些文件用utf-8读取会出错, 而这些文件占比比较小, 索性丢弃\n",
    "            content = f.read()\n",
    "        except:\n",
    "            continue\n",
    "        content = re.sub(r1, '', content)\n",
    "        content_jieba = ' '.join(jieba.cut(content))\n",
    "        X.append(content_jieba)\n",
    "        y.append(23)"
   ]
  },
  {
   "cell_type": "markdown",
   "metadata": {},
   "source": [
    "共6个类别, 1652篇文档"
   ]
  },
  {
   "cell_type": "markdown",
   "metadata": {},
   "source": [
    " ## 文本预处理"
   ]
  },
  {
   "cell_type": "markdown",
   "metadata": {},
   "source": [
    "这里没有去停用词"
   ]
  },
  {
   "cell_type": "code",
   "execution_count": 11,
   "metadata": {},
   "outputs": [],
   "source": [
    "num_words = 5000\n",
    "sentence_len = 300\n",
    "\n",
    "tok = Tokenizer(num_words=num_words)   # 只考虑5000个词\n",
    "tok.fit_on_texts(X)\n",
    "X = tok.texts_to_sequences(X)\n",
    "X = sequence.pad_sequences(X, maxlen=sentence_len)   # 每个文本取前30个词, 不足补零"
   ]
  },
  {
   "cell_type": "code",
   "execution_count": 50,
   "metadata": {},
   "outputs": [],
   "source": [
    "y = LabelBinarizer().fit_transform(y)\n",
    "\n",
    "train_X, test_X, train_y, test_y = train_test_split(X, y, test_size=0.2, shuffle=True)"
   ]
  },
  {
   "cell_type": "markdown",
   "metadata": {},
   "source": [
    "## Modeling"
   ]
  },
  {
   "cell_type": "code",
   "execution_count": 13,
   "metadata": {},
   "outputs": [
    {
     "name": "stdout",
     "output_type": "stream",
     "text": [
      "Epoch 1/15\n",
      "1353/1353 [==============================] - 14s 10ms/step - loss: 1.6135 - acc: 0.4472\n",
      "Epoch 2/15\n",
      "1353/1353 [==============================] - 12s 9ms/step - loss: 1.2078 - acc: 0.4878\n",
      "Epoch 3/15\n",
      "1353/1353 [==============================] - 13s 10ms/step - loss: 0.9645 - acc: 0.6460\n",
      "Epoch 4/15\n",
      "1353/1353 [==============================] - 13s 10ms/step - loss: 0.7875 - acc: 0.6948\n",
      "Epoch 5/15\n",
      "1353/1353 [==============================] - 13s 10ms/step - loss: 0.6250 - acc: 0.7605\n",
      "Epoch 6/15\n",
      "1353/1353 [==============================] - 13s 9ms/step - loss: 0.5661 - acc: 0.7613\n",
      "Epoch 7/15\n",
      "1353/1353 [==============================] - 13s 10ms/step - loss: 0.4244 - acc: 0.8500\n",
      "Epoch 8/15\n",
      "1353/1353 [==============================] - 14s 10ms/step - loss: 0.3883 - acc: 0.8581\n",
      "Epoch 9/15\n",
      "1353/1353 [==============================] - 14s 10ms/step - loss: 0.3560 - acc: 0.8810\n",
      "Epoch 10/15\n",
      "1353/1353 [==============================] - 14s 10ms/step - loss: 0.2686 - acc: 0.9246\n",
      "Epoch 11/15\n",
      "1353/1353 [==============================] - 14s 10ms/step - loss: 0.2977 - acc: 0.9002\n",
      "Epoch 12/15\n",
      "1353/1353 [==============================] - 14s 10ms/step - loss: 0.1780 - acc: 0.9505\n",
      "Epoch 13/15\n",
      "1353/1353 [==============================] - 14s 10ms/step - loss: 0.1436 - acc: 0.9593\n",
      "Epoch 14/15\n",
      "1353/1353 [==============================] - 14s 11ms/step - loss: 0.1482 - acc: 0.9505\n",
      "Epoch 15/15\n",
      "1353/1353 [==============================] - 14s 11ms/step - loss: 0.1745 - acc: 0.9460\n"
     ]
    },
    {
     "data": {
      "text/plain": [
       "<keras.callbacks.History at 0x241f29e3b00>"
      ]
     },
     "execution_count": 13,
     "metadata": {},
     "output_type": "execute_result"
    }
   ],
   "source": [
    "batch_size = 200\n",
    "model = Sequential()\n",
    "model.add(Embedding(num_words+1, batch_size, input_length=sentence_len))\n",
    "model.add(LSTM(64))\n",
    "model.add(Dense(64, activation='relu'))\n",
    "model.add(Dropout(0.2))\n",
    "model.add(Dense(6, activation='softmax'))\n",
    "\n",
    "model.compile(loss='categorical_crossentropy', optimizer=RMSprop(), metrics=['accuracy'])\n",
    "model.fit(train_X, train_y, batch_size=200, epochs=15)"
   ]
  },
  {
   "cell_type": "markdown",
   "metadata": {},
   "source": [
    "正确率达到94.6%"
   ]
  },
  {
   "cell_type": "code",
   "execution_count": 54,
   "metadata": {},
   "outputs": [
    {
     "data": {
      "text/plain": [
       "array([[142,   2,   0,   0,   1,   0],\n",
       "       [ 12,  86,   1,   0,   0,   0],\n",
       "       [  0,   0,  71,   0,   0,   0],\n",
       "       [  0,   0,   0,   1,   0,   0],\n",
       "       [  0,   0,   0,   0,   0,   0],\n",
       "       [  0,   0,   0,   0,   8,  15]], dtype=int64)"
      ]
     },
     "execution_count": 54,
     "metadata": {},
     "output_type": "execute_result"
    }
   ],
   "source": [
    "y_pred = model.predict_classes(test_X)\n",
    "origin_y = np.argmax(test_y, axis=1)\n",
    "\n",
    "metrics.confusion_matrix(y_pred, origin_y)"
   ]
  },
  {
   "cell_type": "code",
   "execution_count": 14,
   "metadata": {},
   "outputs": [
    {
     "name": "stdout",
     "output_type": "stream",
     "text": [
      "_________________________________________________________________\n",
      "Layer (type)                 Output Shape              Param #   \n",
      "=================================================================\n",
      "embedding_1 (Embedding)      (None, 300, 200)          1000200   \n",
      "_________________________________________________________________\n",
      "lstm_1 (LSTM)                (None, 64)                67840     \n",
      "_________________________________________________________________\n",
      "dense_1 (Dense)              (None, 64)                4160      \n",
      "_________________________________________________________________\n",
      "dropout_1 (Dropout)          (None, 64)                0         \n",
      "_________________________________________________________________\n",
      "dense_2 (Dense)              (None, 6)                 390       \n",
      "=================================================================\n",
      "Total params: 1,072,590\n",
      "Trainable params: 1,072,590\n",
      "Non-trainable params: 0\n",
      "_________________________________________________________________\n"
     ]
    }
   ],
   "source": [
    "model.summary()"
   ]
  }
 ],
 "metadata": {
  "kernelspec": {
   "display_name": "Python 3",
   "language": "python",
   "name": "python3"
  },
  "language_info": {
   "codemirror_mode": {
    "name": "ipython",
    "version": 3
   },
   "file_extension": ".py",
   "mimetype": "text/x-python",
   "name": "python",
   "nbconvert_exporter": "python",
   "pygments_lexer": "ipython3",
   "version": "3.6.5"
  }
 },
 "nbformat": 4,
 "nbformat_minor": 2
}
