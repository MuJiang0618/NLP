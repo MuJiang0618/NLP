{
 "cells": [
  {
   "cell_type": "markdown",
   "metadata": {},
   "source": [
    "# 贝叶斯拼写检查器"
   ]
  },
  {
   "cell_type": "markdown",
   "metadata": {},
   "source": [
    "## theory"
   ]
  },
  {
   "cell_type": "markdown",
   "metadata": {},
   "source": [
    "$$\n",
    "argmax_c \\ P(c| w) \\\\ w 是用户的输入, c是拼写检查系统推荐的候选词语\n",
    "$$\n",
    "\n",
    "$$\n",
    "    argmax_c \\ P(c| w) \\longrightarrow \\ argmax_c \\ P(c) * P(w | c) \\ / \\ P(w) \\\\\n",
    "用户输错的词有很多种可能,对于任一错别词w, P(w)相等,可以丢弃, 得到下式 \\\\\n",
    "    argmax_c \\ P(c) * P(w | c)\n",
    "$$"
   ]
  },
  {
   "cell_type": "markdown",
   "metadata": {},
   "source": [
    "①求P(c)    ②找出与用户的输入w最接近的正确的词c,利用`编辑距离`"
   ]
  },
  {
   "cell_type": "markdown",
   "metadata": {},
   "source": [
    "## code"
   ]
  },
  {
   "cell_type": "code",
   "execution_count": null,
   "metadata": {},
   "outputs": [],
   "source": [
    "def getWordFrequency(dataset):\n",
    "    "
   ]
  }
 ],
 "metadata": {
  "kernelspec": {
   "display_name": "Python 3",
   "language": "python",
   "name": "python3"
  },
  "language_info": {
   "codemirror_mode": {
    "name": "ipython",
    "version": 3
   },
   "file_extension": ".py",
   "mimetype": "text/x-python",
   "name": "python",
   "nbconvert_exporter": "python",
   "pygments_lexer": "ipython3",
   "version": "3.6.5"
  }
 },
 "nbformat": 4,
 "nbformat_minor": 2
}
