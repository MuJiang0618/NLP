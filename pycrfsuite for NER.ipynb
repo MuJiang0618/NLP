{
 "cells": [
  {
   "cell_type": "markdown",
   "metadata": {},
   "source": [
    "# pycrfsuite for NER"
   ]
  },
  {
   "cell_type": "code",
   "execution_count": 1,
   "metadata": {},
   "outputs": [
    {
     "name": "stderr",
     "output_type": "stream",
     "text": [
      "D:\\study\\Anaconda\\lib\\site-packages\\h5py\\__init__.py:36: FutureWarning: Conversion of the second argument of issubdtype from `float` to `np.floating` is deprecated. In future, it will be treated as `np.float64 == np.dtype(float).type`.\n",
      "  from ._conv import register_converters as _register_converters\n",
      "Using TensorFlow backend.\n"
     ]
    }
   ],
   "source": [
    "import keras\n",
    "from keras.models import Sequential\n",
    "from keras.layers import *\n",
    "import nltk"
   ]
  },
  {
   "cell_type": "markdown",
   "metadata": {},
   "source": [
    "## 数据准备"
   ]
  },
  {
   "cell_type": "code",
   "execution_count": 2,
   "metadata": {},
   "outputs": [],
   "source": [
    "num_sentence = 50000\n",
    "with open(r'D:/CS/dataset/NLP/命名实体识别/单个字特征数据集/example.train', 'r', \n",
    "          encoding='utf-8') as f:\n",
    "    i = 0;\n",
    "    a = []\n",
    "    while(i < num_sentence):     # 读取了10000句预料\n",
    "        content = f.readline()\n",
    "        if content == '\\n':\n",
    "            i += 1\n",
    "        a.append(content)"
   ]
  },
  {
   "cell_type": "code",
   "execution_count": 3,
   "metadata": {},
   "outputs": [],
   "source": [
    "def get_sentences(temp_list):\n",
    "    index_list = []\n",
    "    for i in range(len(temp_list)):\n",
    "        if temp_list[i] == '\\n':\n",
    "            index_list.append(i)\n",
    "    \n",
    "    pointer = 0\n",
    "    sentence_list = []\n",
    "    for index in index_list:\n",
    "        sentence_list.append(temp_list[pointer : index])\n",
    "        pointer = index + 1\n",
    "    return sentence_list"
   ]
  },
  {
   "cell_type": "code",
   "execution_count": 4,
   "metadata": {},
   "outputs": [],
   "source": [
    "sentence_list = get_sentences(a)"
   ]
  },
  {
   "cell_type": "code",
   "execution_count": 5,
   "metadata": {},
   "outputs": [
    {
     "data": {
      "text/plain": [
       "['但 O\\n',\n",
       " '是 O\\n',\n",
       " '， O\\n',\n",
       " '金 O\\n',\n",
       " '融 O\\n',\n",
       " '危 O\\n',\n",
       " '机 O\\n',\n",
       " '也 O\\n',\n",
       " '可 O\\n',\n",
       " '能 O\\n',\n",
       " '来 O\\n',\n",
       " '自 O\\n',\n",
       " '内 O\\n',\n",
       " '部 O\\n',\n",
       " '。 O\\n']"
      ]
     },
     "execution_count": 5,
     "metadata": {},
     "output_type": "execute_result"
    }
   ],
   "source": [
    "sentence_list[-2]   # 最后一句没有句号"
   ]
  },
  {
   "cell_type": "code",
   "execution_count": 6,
   "metadata": {},
   "outputs": [],
   "source": [
    "# 去掉'\\n'和句号\n",
    "for sentence in sentence_list:\n",
    "    try:\n",
    "        sentence.remove('。 O\\n')\n",
    "    except:\n",
    "        pass\n",
    "    \n",
    "    for i in range(len(sentence)):\n",
    "        sentence[i] = tuple(sentence[i].strip('\\n').split(' '))"
   ]
  },
  {
   "cell_type": "code",
   "execution_count": 7,
   "metadata": {},
   "outputs": [
    {
     "data": {
      "text/plain": [
       "[('首', 'B-ORG'),\n",
       " ('届', 'I-ORG'),\n",
       " ('立', 'I-ORG'),\n",
       " ('法', 'I-ORG'),\n",
       " ('会', 'I-ORG'),\n",
       " ('选', 'O'),\n",
       " ('举', 'O'),\n",
       " ('是', 'O'),\n",
       " ('“', 'O'),\n",
       " ('港', 'B-LOC'),\n",
       " ('人', 'O'),\n",
       " ('治', 'O'),\n",
       " ('港', 'B-LOC'),\n",
       " ('”', 'O'),\n",
       " ('重', 'O'),\n",
       " ('要', 'O'),\n",
       " ('一', 'O'),\n",
       " ('步', 'O')]"
      ]
     },
     "execution_count": 7,
     "metadata": {},
     "output_type": "execute_result"
    }
   ],
   "source": [
    "sentence_list[-1]"
   ]
  },
  {
   "cell_type": "code",
   "execution_count": 8,
   "metadata": {},
   "outputs": [],
   "source": [
    "# 去除特殊符号\n",
    "stop_words = '[a-zA-Z0-9’\\n·\\s＊!\"：#$%&\\'()◆●（）＠②*+,-./:;<=>?@，。?★、…【】《》？——“”‘’！[\\$$^_`{|}~]+'\n",
    "sentence_list = [[(word, tag) for word, tag in sentence if word not in stop_words] for sentence in sentence_list]"
   ]
  },
  {
   "cell_type": "code",
   "execution_count": 9,
   "metadata": {},
   "outputs": [
    {
     "data": {
      "text/plain": [
       "[('首', 'B-ORG'),\n",
       " ('届', 'I-ORG'),\n",
       " ('立', 'I-ORG'),\n",
       " ('法', 'I-ORG'),\n",
       " ('会', 'I-ORG'),\n",
       " ('选', 'O'),\n",
       " ('举', 'O'),\n",
       " ('是', 'O'),\n",
       " ('港', 'B-LOC'),\n",
       " ('人', 'O'),\n",
       " ('治', 'O'),\n",
       " ('港', 'B-LOC'),\n",
       " ('重', 'O'),\n",
       " ('要', 'O'),\n",
       " ('一', 'O'),\n",
       " ('步', 'O')]"
      ]
     },
     "execution_count": 9,
     "metadata": {},
     "output_type": "execute_result"
    }
   ],
   "source": [
    "sentence_list[-1]"
   ]
  },
  {
   "cell_type": "code",
   "execution_count": 10,
   "metadata": {},
   "outputs": [],
   "source": [
    "import pycrfsuite\n",
    "from sklearn.model_selection import train_test_split"
   ]
  },
  {
   "cell_type": "code",
   "execution_count": 11,
   "metadata": {},
   "outputs": [],
   "source": [
    "trainSet, testSet = train_test_split(sentence_list, test_size = 0.8)\n",
    "\n",
    "ct = pycrfsuite.Trainer(verbose=False)\n",
    "for sentence in trainSet:\n",
    "    ct.append([word for word, tag in sentence], [tag for word, tag in sentence])"
   ]
  },
  {
   "cell_type": "code",
   "execution_count": 12,
   "metadata": {},
   "outputs": [],
   "source": [
    "ct.train(r'D:\\pycrfsuite_model')"
   ]
  },
  {
   "cell_type": "code",
   "execution_count": 13,
   "metadata": {},
   "outputs": [
    {
     "data": {
      "text/plain": [
       "<contextlib.closing at 0x1b3733939b0>"
      ]
     },
     "execution_count": 13,
     "metadata": {},
     "output_type": "execute_result"
    }
   ],
   "source": [
    "tagger = pycrfsuite.Tagger()\n",
    "tagger.open(r'D:\\pycrfsuite_model')"
   ]
  },
  {
   "cell_type": "code",
   "execution_count": 14,
   "metadata": {},
   "outputs": [
    {
     "name": "stdout",
     "output_type": "stream",
     "text": [
      "true tags:  ['B-PER', 'I-PER', 'I-PER', 'I-PER', 'O', 'B-LOC', 'I-LOC', 'I-LOC', 'O', 'O', 'O', 'O', 'O', 'O', 'O', 'O', 'O', 'O', 'O', 'O', 'O', 'O'] \n",
      "\n",
      "pred tags:  ['B-PER', 'I-PER', 'I-PER', 'I-PER', 'O', 'O', 'O', 'O', 'O', 'O', 'O', 'O', 'O', 'O', 'O', 'O', 'O', 'O', 'O', 'O', 'O', 'O']\n"
     ]
    }
   ],
   "source": [
    "index_test = 19\n",
    "pred_tags = tagger.tag([x for x, tag in testSet[index_test]])\n",
    "print('true tags: ', [tag for word, tag in testSet[index_test]], '\\n')\n",
    "print('pred tags: ', pred_tags)"
   ]
  }
 ],
 "metadata": {
  "kernelspec": {
   "display_name": "Python 3",
   "language": "python",
   "name": "python3"
  },
  "language_info": {
   "codemirror_mode": {
    "name": "ipython",
    "version": 3
   },
   "file_extension": ".py",
   "mimetype": "text/x-python",
   "name": "python",
   "nbconvert_exporter": "python",
   "pygments_lexer": "ipython3",
   "version": "3.6.5"
  },
  "toc": {
   "base_numbering": 1,
   "nav_menu": {},
   "number_sections": true,
   "sideBar": true,
   "skip_h1_title": false,
   "title_cell": "Table of Contents",
   "title_sidebar": "Contents",
   "toc_cell": false,
   "toc_position": {},
   "toc_section_display": true,
   "toc_window_display": false
  },
  "varInspector": {
   "cols": {
    "lenName": 16,
    "lenType": 16,
    "lenVar": 40
   },
   "kernels_config": {
    "python": {
     "delete_cmd_postfix": "",
     "delete_cmd_prefix": "del ",
     "library": "var_list.py",
     "varRefreshCmd": "print(var_dic_list())"
    },
    "r": {
     "delete_cmd_postfix": ") ",
     "delete_cmd_prefix": "rm(",
     "library": "var_list.r",
     "varRefreshCmd": "cat(var_dic_list()) "
    }
   },
   "types_to_exclude": [
    "module",
    "function",
    "builtin_function_or_method",
    "instance",
    "_Feature"
   ],
   "window_display": false
  }
 },
 "nbformat": 4,
 "nbformat_minor": 2
}
