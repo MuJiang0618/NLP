{
 "cells": [
  {
   "cell_type": "markdown",
   "metadata": {},
   "source": [
    "# textCNN\n",
    "\n",
    "尝试使用Glove预训练词向量或许效果更好"
   ]
  },
  {
   "cell_type": "code",
   "execution_count": 1,
   "metadata": {},
   "outputs": [
    {
     "name": "stderr",
     "output_type": "stream",
     "text": [
      "G:\\study\\Anaconda\\lib\\site-packages\\h5py\\__init__.py:36: FutureWarning: Conversion of the second argument of issubdtype from `float` to `np.floating` is deprecated. In future, it will be treated as `np.float64 == np.dtype(float).type`.\n",
      "  from ._conv import register_converters as _register_converters\n"
     ]
    },
    {
     "name": "stdout",
     "output_type": "stream",
     "text": [
      "curses is not supported on this machine (please install/reinstall curses for an optimal experience)\n"
     ]
    }
   ],
   "source": [
    "import numpy as np\n",
    "import tflearn\n",
    "from tflearn.datasets import imdb\n",
    "from tflearn.data_utils import to_categorical, pad_sequences"
   ]
  },
  {
   "cell_type": "markdown",
   "metadata": {},
   "source": [
    "## 数据准备"
   ]
  },
  {
   "cell_type": "code",
   "execution_count": 2,
   "metadata": {},
   "outputs": [],
   "source": [
    "train, test, _ = imdb.load_data(path=r'D:\\dataSet\\NLP\\imdb.pkl', n_words=10000,valid_portion=0.1)\n",
    "# 只考虑10000个词\n",
    "trainX, trainY = train\n",
    "testX, testY = test\n",
    "\n",
    "trainX = pad_sequences(trainX, maxlen=100, value=0.)\n",
    "testX = pad_sequences(testX, maxlen=100, value=0.)\n",
    "\n",
    "trainY = to_categorical(trainY, nb_classes=2)\n",
    "testY = to_categorical(testY, nb_classes=2)"
   ]
  },
  {
   "cell_type": "markdown",
   "metadata": {},
   "source": [
    "## 搭建网络"
   ]
  },
  {
   "cell_type": "code",
   "execution_count": 3,
   "metadata": {},
   "outputs": [
    {
     "name": "stdout",
     "output_type": "stream",
     "text": [
      "Training Step: 1759  | total loss: \u001b[1m\u001b[32m0.11748\u001b[0m\u001b[0m | time: 26.091s\n",
      "| Adam | epoch: 005 | loss: 0.11748 - acc: 0.9652 -- iter: 22464/22500\n",
      "Training Step: 1760  | total loss: \u001b[1m\u001b[32m0.11605\u001b[0m\u001b[0m | time: 26.156s\n",
      "| Adam | epoch: 005 | loss: 0.11605 - acc: 0.9656 -- iter: 22500/22500\n",
      "--\n"
     ]
    }
   ],
   "source": [
    "net = tflearn.input_data([None, 100])\n",
    "net = tflearn.embedding(net, 10000, 100)\n",
    "net0 = tflearn.conv_1d(net, 4, [2,2], padding='valid')\n",
    "net1 = tflearn.conv_1d(net, 5, [4,2], padding='valid')\n",
    "net0 = tflearn.max_pool_1d(net0, [99, 1])\n",
    "net1 = tflearn.max_pool_1d(net1, [97, 1])\n",
    "net = tflearn.layers.merge_ops.merge([net0, net1], 'concat', axis = 2)\n",
    "net = tflearn.fully_connected(net, 2, activation='softmax')\n",
    "net = tflearn.regression(net, optimizer='adam', learning_rate=0.001)\n",
    "\n",
    "model = tflearn.DNN(net)\n",
    "model.fit(trainX, trainY, show_metric=True,\n",
    "\t\t  batch_size=32, n_epoch=5, shuffle=True)"
   ]
  },
  {
   "cell_type": "markdown",
   "metadata": {},
   "source": [
    "batch_size = 32时 acc 98%左右\n",
    "\n",
    "batch_size = 64时 acc 96%左右"
   ]
  }
 ],
 "metadata": {
  "kernelspec": {
   "display_name": "Python 3",
   "language": "python",
   "name": "python3"
  },
  "language_info": {
   "codemirror_mode": {
    "name": "ipython",
    "version": 3
   },
   "file_extension": ".py",
   "mimetype": "text/x-python",
   "name": "python",
   "nbconvert_exporter": "python",
   "pygments_lexer": "ipython3",
   "version": "3.6.5"
  },
  "varInspector": {
   "cols": {
    "lenName": 16,
    "lenType": 16,
    "lenVar": 40
   },
   "kernels_config": {
    "python": {
     "delete_cmd_postfix": "",
     "delete_cmd_prefix": "del ",
     "library": "var_list.py",
     "varRefreshCmd": "print(var_dic_list())"
    },
    "r": {
     "delete_cmd_postfix": ") ",
     "delete_cmd_prefix": "rm(",
     "library": "var_list.r",
     "varRefreshCmd": "cat(var_dic_list()) "
    }
   },
   "types_to_exclude": [
    "module",
    "function",
    "builtin_function_or_method",
    "instance",
    "_Feature"
   ],
   "window_display": false
  }
 },
 "nbformat": 4,
 "nbformat_minor": 2
}
